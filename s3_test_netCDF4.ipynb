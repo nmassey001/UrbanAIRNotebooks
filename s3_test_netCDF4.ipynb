{
 "cells": [
  {
   "cell_type": "code",
   "execution_count": null,
   "id": "068625e6-a478-4b61-a0a7-f031a06f6878",
   "metadata": {},
   "outputs": [],
   "source": [
    "# This notebook demonstrates reading a netCDF file from the DestinE S3 area using the netCDF4 library"
   ]
  },
  {
   "cell_type": "code",
   "execution_count": 1,
   "id": "bfcc88c6-9f05-4645-9a5e-b60d57924763",
   "metadata": {},
   "outputs": [],
   "source": [
    "import netCDF4 as nc\n",
    "import json\n",
    "import s3fs"
   ]
  },
  {
   "cell_type": "code",
   "execution_count": 3,
   "id": "bfc51d70-6a1c-434e-b763-373ec9d46b36",
   "metadata": {},
   "outputs": [],
   "source": [
    "# The access key and secret key are stored in a file in the user space\n",
    "# This is for security - so we don't accidentally check the keys into github\n",
    "with open(\"access_keys.json\", 'r') as fh:\n",
    "    s3_keys = json.load(fh)"
   ]
  },
  {
   "cell_type": "code",
   "execution_count": 2,
   "id": "37a638a8-c773-46d7-97fd-41f83fef03c6",
   "metadata": {},
   "outputs": [
    {
     "name": "stdout",
     "output_type": "stream",
     "text": [
      "neils-test-data/tas_Amon_HadGEM3-GC31-LL_piControl_r1i1p1f1_gn_195001-204912.nc\n"
     ]
    }
   ],
   "source": [
    "# the endpoint is given in the DestinE Fresh Data Pool interface\n",
    "s3_endpoint = \"https://s3.central.data.destination-earth.eu\"\n",
    "# bucket name and object name to read\n",
    "bucket_name = \"neils-test-data\"\n",
    "object_name = \"tas_Amon_HadGEM3-GC31-LL_piControl_r1i1p1f1_gn_195001-204912.nc\"\n",
    "# construct the url of the dataset\n",
    "s3_url = bucket_name + \"/\" + object_name\n",
    "print(s3_url)"
   ]
  },
  {
   "cell_type": "code",
   "execution_count": 17,
   "id": "59733124-2644-4459-8105-0c9cf497c25a",
   "metadata": {},
   "outputs": [],
   "source": [
    "# we need to create a s3filesystem object to stream the data\n",
    "fs = s3fs.S3FileSystem(\n",
    "    endpoint_url=s3_endpoint,\n",
    "    key=s3_keys[\"accessKey\"], \n",
    "    secret=s3_keys[\"secretKey\"]\n",
    ")\n",
    "# open the file\n",
    "fo = fs.open(s3_url)"
   ]
  },
  {
   "cell_type": "code",
   "execution_count": 18,
   "id": "046c5ede-13a5-4205-9621-70af421e99e4",
   "metadata": {},
   "outputs": [],
   "source": [
    "# Here we stream the entire contents into memory and then open a netCDF file from those contents\n",
    "nc_bytes = fo.read()"
   ]
  },
  {
   "cell_type": "code",
   "execution_count": 19,
   "id": "12a67405-9543-44d7-8f16-506d6c9daf52",
   "metadata": {},
   "outputs": [
    {
     "name": "stdout",
     "output_type": "stream",
     "text": [
      "<class 'netCDF4._netCDF4.Dataset'>\n",
      "root group (NETCDF4_CLASSIC data model, file format HDF5):\n",
      "    Conventions: CF-1.7 CMIP-6.2\n",
      "    activity_id: CMIP\n",
      "    branch_method: standard\n",
      "    branch_time_in_child: 0.0\n",
      "    branch_time_in_parent: 267840.0\n",
      "    creation_date: 2019-06-20T14:08:01Z\n",
      "    cv_version: 6.2.20.1\n",
      "    data_specs_version: 01.00.29\n",
      "    experiment: pre-industrial control\n",
      "    experiment_id: piControl\n",
      "    external_variables: areacella\n",
      "    forcing_index: 1\n",
      "    frequency: mon\n",
      "    further_info_url: https://furtherinfo.es-doc.org/CMIP6.MOHC.HadGEM3-GC31-LL.piControl.none.r1i1p1f1\n",
      "    grid: Native N96 grid; 192 x 144 longitude/latitude\n",
      "    grid_label: gn\n",
      "    history: 2019-06-20T13:42:01Z ; CMOR rewrote data to be consistent with CMIP6, CF-1.7 CMIP-6.2 and CF standards.;\n",
      "2019-06-20T13:41:40Z MIP Convert v1.1.0, Python v2.7.12, Iris v1.13.0, Numpy v1.13.3, netcdftime v1.4.1.\n",
      "    initialization_index: 1\n",
      "    institution: Met Office Hadley Centre, Fitzroy Road, Exeter, Devon, EX1 3PB, UK\n",
      "    institution_id: MOHC\n",
      "    mip_era: CMIP6\n",
      "    mo_runid: u-ar766\n",
      "    nominal_resolution: 250 km\n",
      "    parent_activity_id: CMIP\n",
      "    parent_experiment_id: piControl-spinup\n",
      "    parent_mip_era: CMIP6\n",
      "    parent_source_id: HadGEM3-GC31-LL\n",
      "    parent_time_units: days since 1850-01-01-00-00-00\n",
      "    parent_variant_label: r1i1p1f1\n",
      "    physics_index: 1\n",
      "    product: model-output\n",
      "    realization_index: 1\n",
      "    realm: atmos\n",
      "    source: HadGEM3-GC31-LL (2016): \n",
      "aerosol: UKCA-GLOMAP-mode\n",
      "atmos: MetUM-HadGEM3-GA7.1 (N96; 192 x 144 longitude/latitude; 85 levels; top level 85 km)\n",
      "atmosChem: none\n",
      "land: JULES-HadGEM3-GL7.1\n",
      "landIce: none\n",
      "ocean: NEMO-HadGEM3-GO6.0 (eORCA1 tripolar primarily 1 deg with meridional refinement down to 1/3 degree in the tropics; 360 x 330 longitude/latitude; 75 levels; top grid cell 0-1 m)\n",
      "ocnBgchem: none\n",
      "seaIce: CICE-HadGEM3-GSI8 (eORCA1 tripolar primarily 1 deg; 360 x 330 longitude/latitude)\n",
      "    source_id: HadGEM3-GC31-LL\n",
      "    source_type: AOGCM AER\n",
      "    sub_experiment: none\n",
      "    sub_experiment_id: none\n",
      "    table_id: Amon\n",
      "    table_info: Creation Date:(13 December 2018) MD5:2b12b5db6db112aa8b8b0d6c1645b121\n",
      "    title: HadGEM3-GC31-LL output prepared for CMIP6\n",
      "    variable_id: tas\n",
      "    variant_label: r1i1p1f1\n",
      "    license: CMIP6 model data produced by the Met Office Hadley Centre is licensed under a Creative Commons Attribution-ShareAlike 4.0 International License (https://creativecommons.org/licenses). Consult https://pcmdi.llnl.gov/CMIP6/TermsOfUse for terms of use governing CMIP6 output, including citation requirements and proper acknowledgment. Further information about this data, including some limitations, can be found via the further_info_url (recorded as a global attribute in this file) and at https://ukesm.ac.uk/cmip6. The data producers and data providers make no warranty, either express or implied, including, but not limited to, warranties of merchantability and fitness for a particular purpose. All liabilities arising from the supply of the information (including any liability arising in negligence) are excluded to the fullest extent permitted by law.\n",
      "    cmor_version: 3.4.0\n",
      "    tracking_id: hdl:21.14100/f3ef3b0d-1929-44c9-8088-39beb8d5c7bf\n",
      "    dimensions(sizes): time(1200), bnds(2), lat(144), lon(192)\n",
      "    variables(dimensions): float64 time(time), float64 time_bnds(time, bnds), float64 lat(lat), float64 lat_bnds(lat, bnds), float64 lon(lon), float64 lon_bnds(lon, bnds), float64 height(), float32 tas(time, lat, lon)\n",
      "    groups: \n"
     ]
    }
   ],
   "source": [
    "# Probably not the most efficient way of doing it!  xarray could well be better\n",
    "ncd = nc.Dataset(\n",
    "    \"inmemory.nc\",\n",
    "    memory=nc_bytes\n",
    ")\n",
    "print(ncd)"
   ]
  },
  {
   "cell_type": "code",
   "execution_count": 20,
   "id": "59bfdac1-1229-4b6f-95eb-cbfb973515f6",
   "metadata": {},
   "outputs": [],
   "source": [
    "# Here's a 2nd way of doing it using boto3\n",
    "import boto3"
   ]
  },
  {
   "cell_type": "code",
   "execution_count": 21,
   "id": "6aadecec-6946-491b-9f95-ab3a9e6348a3",
   "metadata": {},
   "outputs": [],
   "source": [
    "# create the client\n",
    "s3_client = boto3.client(\n",
    "    's3',\n",
    "    aws_access_key_id = s3_keys[\"accessKey\"], \n",
    "    aws_secret_access_key = s3_keys[\"secretKey\"],\n",
    "    endpoint_url = s3_endpoint\n",
    ")"
   ]
  },
  {
   "cell_type": "code",
   "execution_count": 24,
   "id": "e706948b-778f-49d4-9e68-fb33fb505864",
   "metadata": {},
   "outputs": [],
   "source": [
    "# stream the object, get the data\n",
    "response = s3_client.get_object(Key=object_name, Bucket=bucket_name)\n",
    "nc_bytes2 = response[\"Body\"].read()"
   ]
  },
  {
   "cell_type": "code",
   "execution_count": 25,
   "id": "c7cd246e-915a-4161-a1fd-707e2fabfffb",
   "metadata": {},
   "outputs": [
    {
     "name": "stdout",
     "output_type": "stream",
     "text": [
      "<class 'netCDF4._netCDF4.Dataset'>\n",
      "root group (NETCDF4_CLASSIC data model, file format HDF5):\n",
      "    Conventions: CF-1.7 CMIP-6.2\n",
      "    activity_id: CMIP\n",
      "    branch_method: standard\n",
      "    branch_time_in_child: 0.0\n",
      "    branch_time_in_parent: 267840.0\n",
      "    creation_date: 2019-06-20T14:08:01Z\n",
      "    cv_version: 6.2.20.1\n",
      "    data_specs_version: 01.00.29\n",
      "    experiment: pre-industrial control\n",
      "    experiment_id: piControl\n",
      "    external_variables: areacella\n",
      "    forcing_index: 1\n",
      "    frequency: mon\n",
      "    further_info_url: https://furtherinfo.es-doc.org/CMIP6.MOHC.HadGEM3-GC31-LL.piControl.none.r1i1p1f1\n",
      "    grid: Native N96 grid; 192 x 144 longitude/latitude\n",
      "    grid_label: gn\n",
      "    history: 2019-06-20T13:42:01Z ; CMOR rewrote data to be consistent with CMIP6, CF-1.7 CMIP-6.2 and CF standards.;\n",
      "2019-06-20T13:41:40Z MIP Convert v1.1.0, Python v2.7.12, Iris v1.13.0, Numpy v1.13.3, netcdftime v1.4.1.\n",
      "    initialization_index: 1\n",
      "    institution: Met Office Hadley Centre, Fitzroy Road, Exeter, Devon, EX1 3PB, UK\n",
      "    institution_id: MOHC\n",
      "    mip_era: CMIP6\n",
      "    mo_runid: u-ar766\n",
      "    nominal_resolution: 250 km\n",
      "    parent_activity_id: CMIP\n",
      "    parent_experiment_id: piControl-spinup\n",
      "    parent_mip_era: CMIP6\n",
      "    parent_source_id: HadGEM3-GC31-LL\n",
      "    parent_time_units: days since 1850-01-01-00-00-00\n",
      "    parent_variant_label: r1i1p1f1\n",
      "    physics_index: 1\n",
      "    product: model-output\n",
      "    realization_index: 1\n",
      "    realm: atmos\n",
      "    source: HadGEM3-GC31-LL (2016): \n",
      "aerosol: UKCA-GLOMAP-mode\n",
      "atmos: MetUM-HadGEM3-GA7.1 (N96; 192 x 144 longitude/latitude; 85 levels; top level 85 km)\n",
      "atmosChem: none\n",
      "land: JULES-HadGEM3-GL7.1\n",
      "landIce: none\n",
      "ocean: NEMO-HadGEM3-GO6.0 (eORCA1 tripolar primarily 1 deg with meridional refinement down to 1/3 degree in the tropics; 360 x 330 longitude/latitude; 75 levels; top grid cell 0-1 m)\n",
      "ocnBgchem: none\n",
      "seaIce: CICE-HadGEM3-GSI8 (eORCA1 tripolar primarily 1 deg; 360 x 330 longitude/latitude)\n",
      "    source_id: HadGEM3-GC31-LL\n",
      "    source_type: AOGCM AER\n",
      "    sub_experiment: none\n",
      "    sub_experiment_id: none\n",
      "    table_id: Amon\n",
      "    table_info: Creation Date:(13 December 2018) MD5:2b12b5db6db112aa8b8b0d6c1645b121\n",
      "    title: HadGEM3-GC31-LL output prepared for CMIP6\n",
      "    variable_id: tas\n",
      "    variant_label: r1i1p1f1\n",
      "    license: CMIP6 model data produced by the Met Office Hadley Centre is licensed under a Creative Commons Attribution-ShareAlike 4.0 International License (https://creativecommons.org/licenses). Consult https://pcmdi.llnl.gov/CMIP6/TermsOfUse for terms of use governing CMIP6 output, including citation requirements and proper acknowledgment. Further information about this data, including some limitations, can be found via the further_info_url (recorded as a global attribute in this file) and at https://ukesm.ac.uk/cmip6. The data producers and data providers make no warranty, either express or implied, including, but not limited to, warranties of merchantability and fitness for a particular purpose. All liabilities arising from the supply of the information (including any liability arising in negligence) are excluded to the fullest extent permitted by law.\n",
      "    cmor_version: 3.4.0\n",
      "    tracking_id: hdl:21.14100/f3ef3b0d-1929-44c9-8088-39beb8d5c7bf\n",
      "    dimensions(sizes): time(1200), bnds(2), lat(144), lon(192)\n",
      "    variables(dimensions): float64 time(time), float64 time_bnds(time, bnds), float64 lat(lat), float64 lat_bnds(lat, bnds), float64 lon(lon), float64 lon_bnds(lon, bnds), float64 height(), float32 tas(time, lat, lon)\n",
      "    groups: \n"
     ]
    }
   ],
   "source": [
    "ncd2 = nc.Dataset(\n",
    "    \"inmemory.nc\",\n",
    "    memory=nc_bytes2\n",
    ")\n",
    "print(ncd2)"
   ]
  }
 ],
 "metadata": {
  "kernelspec": {
   "display_name": "Python 3 (ipykernel)",
   "language": "python",
   "name": "python3"
  },
  "language_info": {
   "codemirror_mode": {
    "name": "ipython",
    "version": 3
   },
   "file_extension": ".py",
   "mimetype": "text/x-python",
   "name": "python",
   "nbconvert_exporter": "python",
   "pygments_lexer": "ipython3",
   "version": "3.11.9"
  }
 },
 "nbformat": 4,
 "nbformat_minor": 5
}
