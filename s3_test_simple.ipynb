{
 "cells": [
  {
   "cell_type": "code",
   "execution_count": null,
   "id": "a9840ebe-b02c-4276-a42f-29c41ce9fc48",
   "metadata": {},
   "outputs": [],
   "source": [
    "# This notebook demonstrates reading a simple text file from the DestinE S3 area using boto3"
   ]
  },
  {
   "cell_type": "code",
   "execution_count": 1,
   "id": "e78cb124-08bd-4819-9557-505f1a1aadb1",
   "metadata": {},
   "outputs": [],
   "source": [
    "import boto3\n",
    "import json"
   ]
  },
  {
   "cell_type": "code",
   "execution_count": 4,
   "id": "163ef528-122e-4ece-b643-1611e0899578",
   "metadata": {},
   "outputs": [],
   "source": [
    "# The access key and secret key are stored in a file in the user space\n",
    "# This is for security - so we don't accidentally check the keys into github\n",
    "with open(\"access_keys.json\", 'r') as fh:\n",
    "    s3_keys = json.load(fh)"
   ]
  },
  {
   "cell_type": "code",
   "execution_count": 12,
   "id": "8b822efe-149b-45cb-970a-c0f1f70b45eb",
   "metadata": {},
   "outputs": [
    {
     "name": "stdout",
     "output_type": "stream",
     "text": [
      "{'Name': 'neils-test-data', 'CreationDate': datetime.datetime(2025, 10, 22, 14, 48, 40, 633000, tzinfo=tzlocal())}\n"
     ]
    }
   ],
   "source": [
    "# the endpoint is as given in the DestinE Fresh Data Pool interface\n",
    "s3_endpoint = \"https://s3.central.data.destination-earth.eu\"\n",
    "# create the client\n",
    "s3_client = boto3.client(\n",
    "    's3',\n",
    "    aws_access_key_id = s3_keys[\"accessKey\"], \n",
    "    aws_secret_access_key = s3_keys[\"secretKey\"],\n",
    "    endpoint_url = s3_endpoint\n",
    ")\n",
    "# list the buckets available\n",
    "response = s3_client.list_buckets()\n",
    "for b in response[\"Buckets\"]:\n",
    "    print(b)"
   ]
  },
  {
   "cell_type": "code",
   "execution_count": 17,
   "id": "2f82287c-3a8d-4720-b8d2-300d2242437a",
   "metadata": {},
   "outputs": [
    {
     "name": "stdout",
     "output_type": "stream",
     "text": [
      "{'Key': 'tas_Amon_HadGEM3-GC31-LL_piControl_r1i1p1f1_gn_195001-204912.nc', 'LastModified': datetime.datetime(2025, 10, 22, 14, 59, 20, 615000, tzinfo=tzlocal()), 'ETag': '\"e94023df8265a6ad36a2003e5f6ee52d-5\"', 'Size': 71469230, 'StorageClass': 'STANDARD', 'Owner': {'DisplayName': '8d48d597-ad88-4aff-b84f-ba52a542e794', 'ID': 'cbebc788-4bc3-49ef-889a-5b283b9fc754'}}\n",
      "{'Key': 'text-file.txt', 'LastModified': datetime.datetime(2025, 10, 27, 14, 20, 7, 48000, tzinfo=tzlocal()), 'ETag': '\"bca686258317266e3337dba6f8644541\"', 'Size': 19, 'StorageClass': 'STANDARD', 'Owner': {'DisplayName': '8d48d597-ad88-4aff-b84f-ba52a542e794', 'ID': 'cbebc788-4bc3-49ef-889a-5b283b9fc754'}}\n"
     ]
    }
   ],
   "source": [
    "# list the contents of \"neils-test-data\"\n",
    "bucket_name = \"neils-test-data\"\n",
    "response = s3_client.list_objects(Bucket=bucket_name)\n",
    "for o in response[\"Contents\"]:\n",
    "    print(o)"
   ]
  },
  {
   "cell_type": "code",
   "execution_count": 34,
   "id": "7770cfc4-b9c5-4597-8c62-34cce41b6efa",
   "metadata": {},
   "outputs": [],
   "source": [
    "# get the object, ready to stream into memory\n",
    "object_name = \"text-file.txt\"\n",
    "response = s3_client.get_object(Key=object_name, Bucket=bucket_name)"
   ]
  },
  {
   "cell_type": "code",
   "execution_count": 35,
   "id": "a3e3f3d9-a535-4450-8702-439aca4cc2d8",
   "metadata": {},
   "outputs": [
    {
     "name": "stdout",
     "output_type": "stream",
     "text": [
      "A simple text file\n",
      "\n"
     ]
    }
   ],
   "source": [
    "# read from the object - the data is a StreamingBody object stored in the \"Body\" key of the dictionary\n",
    "data = response[\"Body\"]\n",
    "text_binary = data.read() # read can have the keyword amt=<number of bytes>.  Reading again will \n",
    "text = text_binary.decode()\n",
    "print(text)"
   ]
  },
  {
   "cell_type": "code",
   "execution_count": 45,
   "id": "ce94215e-32cb-4036-bf27-d8d73afc0bfb",
   "metadata": {},
   "outputs": [
    {
     "name": "stdout",
     "output_type": "stream",
     "text": [
      "{'ResponseMetadata': {'RequestId': 'tx00000eda6efa49ee638f4-0068ff8364-363378a1-default', 'HostId': '', 'HTTPStatusCode': 200, 'HTTPHeaders': {'server': 'nginx/1.27.2', 'date': 'Mon, 27 Oct 2025 14:36:20 GMT', 'content-type': 'text/plain', 'content-length': '19', 'accept-ranges': 'bytes', 'last-modified': 'Mon, 27 Oct 2025 14:20:07 GMT', 'x-rgw-object-type': 'Normal', 'etag': '\"bca686258317266e3337dba6f8644541\"', 'x-amz-request-id': 'tx00000eda6efa49ee638f4-0068ff8364-363378a1-default'}, 'RetryAttempts': 0}, 'AcceptRanges': 'bytes', 'LastModified': datetime.datetime(2025, 10, 27, 14, 20, 7, tzinfo=tzutc()), 'ContentLength': 19, 'ETag': '\"bca686258317266e3337dba6f8644541\"', 'ContentType': 'text/plain', 'Metadata': {}, 'Body': <botocore.response.StreamingBody object at 0x7c6e4d85ed40>}\n",
      "8 19\n",
      "A simple\n",
      "16 19\n",
      " text fi\n",
      "19 19\n",
      "le\n",
      "\n"
     ]
    }
   ],
   "source": [
    "# read can have the keyword amt=<number of bytes>.  \n",
    "# Reading again will resume from the last read position. \n",
    "# .tell() can be used to find out where the stream pointer is\n",
    "# see https://botocore.amazonaws.com/v1/documentation/api/latest/reference/response.html\n",
    "# have to reload the file, as there is no seek(0)\n",
    "response = s3_client.get_object(Key=object_name, Bucket=bucket_name)\n",
    "print(response)\n",
    "data = response[\"Body\"]\n",
    "buf_size = 8\n",
    "# casting of file_size is imperative, as it is a string in the response headers\n",
    "file_size = int(response[\"ResponseMetadata\"][\"HTTPHeaders\"][\"content-length\"])\n",
    "eof = False\n",
    "while not eof:\n",
    "    text_binary = data.read(amt=buf_size)\n",
    "    text = text_binary.decode()\n",
    "    if data.tell() == file_size:\n",
    "        eof = True"
   ]
  },
  {
   "cell_type": "code",
   "execution_count": null,
   "id": "81a1ce5c-0318-4503-8e9d-faf9a8442eae",
   "metadata": {},
   "outputs": [],
   "source": []
  }
 ],
 "metadata": {
  "kernelspec": {
   "display_name": "Python 3 (ipykernel)",
   "language": "python",
   "name": "python3"
  },
  "language_info": {
   "codemirror_mode": {
    "name": "ipython",
    "version": 3
   },
   "file_extension": ".py",
   "mimetype": "text/x-python",
   "name": "python",
   "nbconvert_exporter": "python",
   "pygments_lexer": "ipython3",
   "version": "3.11.9"
  }
 },
 "nbformat": 4,
 "nbformat_minor": 5
}
