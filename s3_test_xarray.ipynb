{
 "cells": [
  {
   "cell_type": "code",
   "execution_count": null,
   "id": "7c3d6b29-f648-4357-a860-1bc7fa633574",
   "metadata": {},
   "outputs": [],
   "source": [
    "# This notebook demonstrates reading a netCDF file from the DestinE S3 area using xarray"
   ]
  },
  {
   "cell_type": "code",
   "execution_count": 1,
   "id": "b11eba32-69a1-4ab7-99b7-fc2e6d054ab9",
   "metadata": {},
   "outputs": [],
   "source": [
    "import xarray as xr\n",
    "import json\n",
    "import s3fs"
   ]
  },
  {
   "cell_type": "code",
   "execution_count": 2,
   "id": "c57121d5-ac11-40ff-a31a-7b31851ff813",
   "metadata": {},
   "outputs": [],
   "source": [
    "# The access key and secret key are stored in a file in the user space\n",
    "# This is for security - so we don't accidentally check the keys into github\n",
    "with open(\"access_keys.json\", 'r') as fh:\n",
    "    s3_keys = json.load(fh)"
   ]
  },
  {
   "cell_type": "code",
   "execution_count": 3,
   "id": "e8c4564b-9caa-465f-b9f2-f97b9db3c342",
   "metadata": {},
   "outputs": [
    {
     "name": "stdout",
     "output_type": "stream",
     "text": [
      "neils-test-data/tas_Amon_HadGEM3-GC31-LL_piControl_r1i1p1f1_gn_195001-204912.nc\n"
     ]
    }
   ],
   "source": [
    "# the endpoint is given in the DestinE Fresh Data Pool interface\n",
    "s3_endpoint = \"https://s3.central.data.destination-earth.eu\"\n",
    "# bucket name and object name to read\n",
    "bucket_name = \"neils-test-data\"\n",
    "object_name = \"tas_Amon_HadGEM3-GC31-LL_piControl_r1i1p1f1_gn_195001-204912.nc\"\n",
    "# construct the url of the dataset\n",
    "s3_url = bucket_name + \"/\" + object_name\n",
    "print(s3_url)"
   ]
  },
  {
   "cell_type": "code",
   "execution_count": 4,
   "id": "4d070d70-07e3-4015-9282-37b59c3d21f3",
   "metadata": {},
   "outputs": [],
   "source": [
    "# we need to create a s3filesystem object to stream the data\n",
    "fs = s3fs.S3FileSystem(\n",
    "    endpoint_url=s3_endpoint,\n",
    "    key=s3_keys[\"accessKey\"], \n",
    "    secret=s3_keys[\"secretKey\"]\n",
    ")"
   ]
  },
  {
   "cell_type": "code",
   "execution_count": 5,
   "id": "cc2b9a0c-9df8-4437-8db5-e91a04255bda",
   "metadata": {},
   "outputs": [
    {
     "name": "stdout",
     "output_type": "stream",
     "text": [
      "<xarray.Dataset> Size: 133MB\n",
      "Dimensions:    (time: 1200, bnds: 2, lat: 144, lon: 192)\n",
      "Coordinates:\n",
      "  * time       (time) object 10kB 1950-01-16 00:00:00 ... 2049-12-16 00:00:00\n",
      "  * lat        (lat) float64 1kB -89.38 -88.12 -86.88 ... 86.88 88.12 89.38\n",
      "  * lon        (lon) float64 2kB 0.9375 2.812 4.688 6.562 ... 355.3 357.2 359.1\n",
      "    height     float64 8B ...\n",
      "Dimensions without coordinates: bnds\n",
      "Data variables:\n",
      "    time_bnds  (time, bnds) object 19kB ...\n",
      "    lat_bnds   (lat, bnds) float64 2kB ...\n",
      "    lon_bnds   (lon, bnds) float64 3kB ...\n",
      "    tas        (time, lat, lon) float32 133MB ...\n",
      "Attributes: (12/46)\n",
      "    Conventions:            CF-1.7 CMIP-6.2\n",
      "    activity_id:            CMIP\n",
      "    branch_method:          standard\n",
      "    branch_time_in_child:   0.0\n",
      "    branch_time_in_parent:  267840.0\n",
      "    creation_date:          2019-06-20T14:08:01Z\n",
      "    ...                     ...\n",
      "    title:                  HadGEM3-GC31-LL output prepared for CMIP6\n",
      "    variable_id:            tas\n",
      "    variant_label:          r1i1p1f1\n",
      "    license:                CMIP6 model data produced by the Met Office Hadle...\n",
      "    cmor_version:           3.4.0\n",
      "    tracking_id:            hdl:21.14100/f3ef3b0d-1929-44c9-8088-39beb8d5c7bf\n"
     ]
    }
   ],
   "source": [
    "# open the file\n",
    "fo = fs.open(s3_url)\n",
    "# now use xarray to read\n",
    "ds = xr.open_dataset(fo, engine='h5netcdf')\n",
    "print(ds)"
   ]
  },
  {
   "cell_type": "code",
   "execution_count": null,
   "id": "c47f3703-1827-4a32-a3c9-bdefc4817fa9",
   "metadata": {},
   "outputs": [],
   "source": []
  }
 ],
 "metadata": {
  "kernelspec": {
   "display_name": "Python 3 (ipykernel)",
   "language": "python",
   "name": "python3"
  },
  "language_info": {
   "codemirror_mode": {
    "name": "ipython",
    "version": 3
   },
   "file_extension": ".py",
   "mimetype": "text/x-python",
   "name": "python",
   "nbconvert_exporter": "python",
   "pygments_lexer": "ipython3",
   "version": "3.11.9"
  }
 },
 "nbformat": 4,
 "nbformat_minor": 5
}
